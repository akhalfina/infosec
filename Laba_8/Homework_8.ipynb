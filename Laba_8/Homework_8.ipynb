{
 "cells": [
  {
   "cell_type": "code",
   "execution_count": 1,
   "metadata": {},
   "outputs": [],
   "source": [
    "import string\n",
    "import random"
   ]
  },
  {
   "cell_type": "code",
   "execution_count": 12,
   "metadata": {},
   "outputs": [],
   "source": [
    "def key(size):\n",
    "    key1 = ''.join(random.choice(string.ascii_letters + string.digits) for _ in range(size))\n",
    "    print(\"Key: \", key1)\n",
    "    key2 = coding(key1)\n",
    "    print(\"Key in 16: \", key2)\n",
    "    return key2\n",
    "\n",
    "def coding(text):\n",
    "    new_text = ' '.join(hex(ord(i))[2:] for i in text)\n",
    "    return new_text\n",
    "\n",
    "def crypt(text, key):\n",
    "    t = [ord(i) for i in text]\n",
    "    k = [ord(j) for j in key]\n",
    "    crypted = ''.join(chr(i^j) for i,j in zip(t,k))\n",
    "    return crypted"
   ]
  },
  {
   "cell_type": "code",
   "execution_count": 13,
   "metadata": {},
   "outputs": [
    {
     "name": "stdout",
     "output_type": "stream",
     "text": [
      "Исходный текст 1:  Привет, как дела?\n",
      "Исходный текст 2:  Спасибо, хорошо!!\n",
      "Key:  F5vs9riWuep4g1G9H\n",
      "Key in 16:  46 35 76 73 39 72 69 57 75 65 70 34 67 31 47 39 48\n",
      "Зашифрованный текст 1:  ЫѶИЁЀѢ\u001b\u0016КЇЉ\u0000ЇЌЛЇ\r\n",
      "Зашифрованный текст 2:  ЕЉАѲЍБЉ\u001a\u0000ѲЍѠЍѱО\u0016\u0013\n",
      "Расшифрованный текст 1:  Привет, как дела?\n",
      "Расшифрованный текст 1:  Спасибо, хорошо!!\n"
     ]
    }
   ],
   "source": [
    "text_1 = \"Привет, как дела?\"\n",
    "text_2 = \"Спасибо, хорошо!!\"\n",
    "\n",
    "print(\"Исходный текст 1: \", text_1)\n",
    "print(\"Исходный текст 2: \", text_2)\n",
    "\n",
    "key = key(len(text_1))\n",
    "\n",
    "ct1 = crypt(text_1, key)\n",
    "ct2 = crypt(text_2, key)\n",
    "print(\"Зашифрованный текст 1: \", ct1)\n",
    "print(\"Зашифрованный текст 2: \", ct2)\n",
    "\n",
    "decrypt = crypt(ct1, ct2)\n",
    "dt1 = crypt(decrypt, text_2)\n",
    "dt2 = crypt(decrypt, text_1)\n",
    "\n",
    "print(\"Расшифрованный текст 1: \", dt1)\n",
    "print(\"Расшифрованный текст 1: \", dt2)"
   ]
  },
  {
   "cell_type": "code",
   "execution_count": null,
   "metadata": {},
   "outputs": [],
   "source": []
  }
 ],
 "metadata": {
  "kernelspec": {
   "display_name": "Python 3 (ipykernel)",
   "language": "python",
   "name": "python3"
  },
  "language_info": {
   "codemirror_mode": {
    "name": "ipython",
    "version": 3
   },
   "file_extension": ".py",
   "mimetype": "text/x-python",
   "name": "python",
   "nbconvert_exporter": "python",
   "pygments_lexer": "ipython3",
   "version": "3.8.5"
  }
 },
 "nbformat": 4,
 "nbformat_minor": 1
}
