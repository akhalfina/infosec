{
 "cells": [
  {
   "cell_type": "code",
   "execution_count": 1,
   "metadata": {},
   "outputs": [],
   "source": [
    "import numpy as np"
   ]
  },
  {
   "cell_type": "code",
   "execution_count": 45,
   "metadata": {},
   "outputs": [],
   "source": [
    "def encrypt(text):\n",
    "    print(\"Открытый текст:\", text)\n",
    "    new_text = []\n",
    "    for i in text:\n",
    "        new_text.append(i.encode(\"cp1251\").hex())\n",
    "    print(\"\\nОткрытый текст в 16-ой системе:\\n\", new_text)\n",
    "    \n",
    "    r = np.random.randint(0, 255, len(text))\n",
    "    key = [hex(i)[2: ] for i in r]\n",
    "    print(\"\\nКлюч в 16-ой системе:\\n\", key)\n",
    "    \n",
    "    xor_text = []\n",
    "    for i in range(len(new_text)):\n",
    "        xor_text.append(\"{:02x}\".format(int(key[i], 16) ^ int(new_text[i], 16)))\n",
    "    print(\"\\nШифротекст в 16-ой системе:\\n\", xor_text)\n",
    "    \n",
    "    en_text = bytearray.fromhex(\"\".join(xor_text)).decode(\"cp1251\")\n",
    "    print(\"\\nШифротекст:\", en_text)\n",
    "    \n",
    "    return key, en_text"
   ]
  },
  {
   "cell_type": "code",
   "execution_count": 64,
   "metadata": {},
   "outputs": [
    {
     "name": "stdout",
     "output_type": "stream",
     "text": [
      "Открытый текст: С Новым Годом, друзья!\n",
      "\n",
      "Открытый текст в 16-ой системе:\n",
      " ['d1', '20', 'cd', 'ee', 'e2', 'fb', 'ec', '20', 'c3', 'ee', 'e4', 'ee', 'ec', '2c', '20', 'e4', 'f0', 'f3', 'e7', 'fc', 'ff', '21']\n",
      "\n",
      "Ключ в 16-ой системе:\n",
      " ['c0', 'af', '8d', 'c7', 'e9', 'ab', '57', 'd7', '33', '61', 'a0', 'd6', '5d', '78', '97', '3', '45', '4c', '1b', '19', '8c', '95']\n",
      "\n",
      "Шифротекст в 16-ой системе:\n",
      " ['11', '8f', '40', '29', '0b', '50', 'bb', 'f7', 'f0', '8f', '44', '38', 'b1', '54', 'b7', 'e7', 'b5', 'bf', 'fc', 'e5', '73', 'b4']\n",
      "\n",
      "Шифротекст: \u0011Џ@)\u000b",
      "P»чрЏD8±T·зµїьеsґ\n"
     ]
    }
   ],
   "source": [
    "t = \"С Новым Годом, друзья!\"\n",
    "k, et = encrypt(t)"
   ]
  },
  {
   "cell_type": "code",
   "execution_count": 65,
   "metadata": {},
   "outputs": [],
   "source": [
    "def find_key(text, en_text):\n",
    "    print(\"Открытый текст:\", text, \"\\nШифротекст:\", en_text)\n",
    "    \n",
    "    new_text = []\n",
    "    for i in text:\n",
    "        new_text.append(i.encode(\"cp1251\").hex())\n",
    "    print(\"\\nОткрытый текст в 16-ой системе:\\n\", new_text)\n",
    "    \n",
    "    tmp_text = []\n",
    "    for i in en_text:\n",
    "        tmp_text.append(i.encode(\"cp1251\").hex())\n",
    "    print(\"\\nШифротекст в 16-ой системе:\\n\", tmp_text)\n",
    "    \n",
    "    key = [hex(int(k, 16) ^ int(t, 16))[2:] for (k, t) in zip(new_text, tmp_text)]\n",
    "    print(\"\\nНайденный ключ в 16-ой системе:\\n\", key)\n",
    "    \n",
    "    return key"
   ]
  },
  {
   "cell_type": "code",
   "execution_count": 66,
   "metadata": {},
   "outputs": [
    {
     "name": "stdout",
     "output_type": "stream",
     "text": [
      "Открытый текст: С Новым Годом, друзья! \n",
      "Шифротекст: \u0011Џ@)\u000b",
      "P»чрЏD8±T·зµїьеsґ\n",
      "\n",
      "Открытый текст в 16-ой системе:\n",
      " ['d1', '20', 'cd', 'ee', 'e2', 'fb', 'ec', '20', 'c3', 'ee', 'e4', 'ee', 'ec', '2c', '20', 'e4', 'f0', 'f3', 'e7', 'fc', 'ff', '21']\n",
      "\n",
      "Шифротекст в 16-ой системе:\n",
      " ['11', '8f', '40', '29', '0b', '50', 'bb', 'f7', 'f0', '8f', '44', '38', 'b1', '54', 'b7', 'e7', 'b5', 'bf', 'fc', 'e5', '73', 'b4']\n",
      "\n",
      "Найденный ключ в 16-ой системе:\n",
      " ['c0', 'af', '8d', 'c7', 'e9', 'ab', '57', 'd7', '33', '61', 'a0', 'd6', '5d', '78', '97', '3', '45', '4c', '1b', '19', '8c', '95']\n"
     ]
    }
   ],
   "source": [
    "key = find_key(t, et)"
   ]
  },
  {
   "cell_type": "code",
   "execution_count": 67,
   "metadata": {},
   "outputs": [
    {
     "name": "stdout",
     "output_type": "stream",
     "text": [
      "Ключ подобран верно!\n"
     ]
    }
   ],
   "source": [
    "if k == key:\n",
    "    print(\"Ключ подобран верно!\")\n",
    "else:\n",
    "    print(\"Ключ подобран неверно!\")"
   ]
  },
  {
   "cell_type": "code",
   "execution_count": null,
   "metadata": {},
   "outputs": [],
   "source": []
  }
 ],
 "metadata": {
  "kernelspec": {
   "display_name": "Python 3 (ipykernel)",
   "language": "python",
   "name": "python3"
  },
  "language_info": {
   "codemirror_mode": {
    "name": "ipython",
    "version": 3
   },
   "file_extension": ".py",
   "mimetype": "text/x-python",
   "name": "python",
   "nbconvert_exporter": "python",
   "pygments_lexer": "ipython3",
   "version": "3.8.5"
  }
 },
 "nbformat": 4,
 "nbformat_minor": 1
}
